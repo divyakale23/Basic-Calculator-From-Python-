{
 "cells": [
  {
   "cell_type": "code",
   "execution_count": null,
   "id": "2d7adb86-ba08-438f-bb98-bbbf05872bba",
   "metadata": {},
   "outputs": [],
   "source": [
    "# Project - 1\n",
    "# Write a Python program to build a simple Calculator\n",
    "\n",
    "# Available Operations\n",
    "# 1. Addition (1): Sum of multiple numbers.\n",
    "# 2. Subtraction (2): Difference between two numbers.\n",
    "# 3. Multiplication (3): Product of multiple numbers\n",
    "# 4. Division (4): Quotient of two numbers.\n",
    "# 5. Average (5): Average of multiple numbers\n",
    "\n",
    "# https://github.com/rishabhnmishra/python_tutorial_notes/tree/main/Project-1%20Calculator    \n",
    "# Above is the original link of the calculator project "
   ]
  },
  {
   "cell_type": "code",
   "execution_count": null,
   "id": "47a4d43f-1312-4f91-b8cb-120e33afd9b2",
   "metadata": {},
   "outputs": [],
   "source": [
    "# python program to create a simple calculator\n",
    "\n",
    "# 3 steps to build calculator program\n",
    "# 1. functions for operations\n",
    "# 2. user input\n",
    "# 3. print result"
   ]
  },
  {
   "cell_type": "code",
   "execution_count": 7,
   "id": "5cc93f15-f8de-45d4-a186-b9e6f5516714",
   "metadata": {},
   "outputs": [
    {
     "name": "stdout",
     "output_type": "stream",
     "text": [
      "Please select the operation: \n",
      "  1. Addition \n",
      "  2. Subtraction \n",
      "  3. Multiplication \n",
      "  4. Division \n",
      "  5. Average \n",
      " \n"
     ]
    },
    {
     "name": "stdin",
     "output_type": "stream",
     "text": [
      "Select a operation from 1,2,3,4,5 :  5\n",
      "Enter the first number :  5\n",
      "Enter the second number :  3\n"
     ]
    },
    {
     "name": "stdout",
     "output_type": "stream",
     "text": [
      "( 5 + 3 ) / 2 =  4.0\n"
     ]
    }
   ],
   "source": [
    "# Step 1 : Creating the Functions \n",
    "# Function to add 2 numbers\n",
    "def add(num1, num2):\n",
    "    return num1 + num2\n",
    "    \n",
    "# Function to subtraction 2 numbers\n",
    "def sub(num1, num2):\n",
    "    return num1 - num2\n",
    "\n",
    "# Function to multiplication 2 numbers\n",
    "def multiply(num1, num2):\n",
    "    return num1 * num2\n",
    "\n",
    "# Function to division 2 numbers\n",
    "def division(num1, num2):\n",
    "    return num1 / num2\n",
    "\n",
    "# Function to average 2 numbers\n",
    "def avg(num1, num2):\n",
    "    return (num1 + num2)/2\n",
    "\n",
    "# User Input \n",
    "print(\"Please select the operation: \\n  \" \\\n",
    "     \"1. Addition \\n \" \\\n",
    "     \" 2. Subtraction \\n \" \\\n",
    "     \" 3. Multiplication \\n \" \\\n",
    "     \" 4. Division \\n \" \\\n",
    "     \" 5. Average \\n \" )\n",
    "\n",
    "# Taking the input from the user\n",
    "select = int(input(\"Select a operation from 1,2,3,4,5 : \"))\n",
    "\n",
    "number1 = int(input(\"Enter the first number : \"))\n",
    "number2 = int(input(\"Enter the second number : \"))\n",
    "\n",
    "# Print the result \n",
    "if select == 1:\n",
    "    print(number1, \"+\", number2, \"= \", \\\n",
    "          add(number1, number2))\n",
    "\n",
    "elif select == 2:\n",
    "    print(number1, \"-\", number2, \"= \", \\\n",
    "         sub(number1, number2))\n",
    "\n",
    "elif select == 3:\n",
    "    print(number1, \"*\", number2, \"= \", \\\n",
    "         multiply(number1, number2))\n",
    "\n",
    "elif select == 4:\n",
    "    print(number1, \"/\", number2, \"= \", \\\n",
    "         division(number1, number2))\n",
    "\n",
    "elif select == 5:\n",
    "    print(\"(\", number1, \"+\", number2, \")\", \"/\", \"2\", \"= \", \\\n",
    "         avg(number1, number2))\n",
    "else:\n",
    "    print(\"Invalid Operations! Please select again! \")"
   ]
  },
  {
   "cell_type": "code",
   "execution_count": null,
   "id": "063164fd-8c8a-4b30-8d67-4d12022b4ab2",
   "metadata": {},
   "outputs": [],
   "source": []
  }
 ],
 "metadata": {
  "kernelspec": {
   "display_name": "Python 3 (ipykernel)",
   "language": "python",
   "name": "python3"
  },
  "language_info": {
   "codemirror_mode": {
    "name": "ipython",
    "version": 3
   },
   "file_extension": ".py",
   "mimetype": "text/x-python",
   "name": "python",
   "nbconvert_exporter": "python",
   "pygments_lexer": "ipython3",
   "version": "3.13.5"
  }
 },
 "nbformat": 4,
 "nbformat_minor": 5
}
